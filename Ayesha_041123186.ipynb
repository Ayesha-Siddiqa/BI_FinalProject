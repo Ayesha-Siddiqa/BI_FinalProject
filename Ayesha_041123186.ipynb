{
 "cells": [
  {
   "cell_type": "markdown",
   "metadata": {},
   "source": [
    "# BISI CST2101 Project - Diabetes Analysis\n",
    "\n",
    "---------------\n",
    "## Context\n",
    "---------------\n",
    "\n",
    "Diabetes is one of the most frequent diseases worldwide and the number of diabetic patients are growing over the years. The main cause of diabetes remains unknown, yet scientists believe that both genetic factors and environmental lifestyle play a major role in diabetes.\n",
    "\n",
    "A few years ago research was done on a tribe in America which is called the Pima tribe (also known as the Pima Indians). In this tribe, it was found that the ladies are prone to diabetes very early. Several constraints were placed on the selection of these instances from a larger database. In particular, all patients were females at least 21 years old of Pima Indian heritage. \n",
    "\n",
    "-----------------\n",
    "## Objective\n",
    "-----------------\n",
    "\n",
    "Here, we are analyzing different aspects of Diabetes in the Pima tribe by doing Exploratory Data Analysis.\n",
    "\n",
    "-------------------------\n",
    "## Data Dictionary\n",
    "-------------------------\n",
    "\n",
    "The dataset has the following information:\n",
    "\n",
    "* Pregnancies: Number of times pregnant\n",
    "* Glucose: Plasma glucose concentration over 2 hours in an oral glucose tolerance test\n",
    "* BloodPressure: Diastolic blood pressure (mm Hg)\n",
    "* SkinThickness: Triceps skin fold thickness (mm)\n",
    "* Insulin: 2-Hour serum insulin (mu U/ml)\n",
    "* BMI: Body mass index (weight in kg/(height in m)^2)\n",
    "* DiabetesPedigreeFunction: A function which scores likelihood of diabetes based on family history.\n",
    "* Age: Age in years\n",
    "* Outcome : Class variable (0: person is not diabetic or 1: person is diabetic)"
   ]
  },
  {
   "cell_type": "markdown",
   "metadata": {},
   "source": [
    "### Q1: Import the necessary libraries and briefly explain the use of each library (1 Mark)"
   ]
  },
  {
   "cell_type": "code",
   "execution_count": 2,
   "metadata": {},
   "outputs": [],
   "source": [
    "# remove _____ & write the appropriate library name\n",
    "\n",
    "import numpy as np\n",
    "import pandas as pd\n",
    "\n",
    "import seaborn as sns\n",
    "import matplotlib.pyplot as plt\n",
    "%matplotlib inline\n",
    "\n",
    "# You don't have to explain about these libraries below\n",
    "from sklearn.preprocessing import StandardScaler\n",
    "from sklearn.linear_model import LogisticRegression\n",
    "from sklearn.ensemble import RandomForestClassifier"
   ]
  },
  {
   "cell_type": "markdown",
   "metadata": {},
   "source": [
    "#### Write your Answer here: "
   ]
  },
  {
   "cell_type": "markdown",
   "metadata": {},
   "source": [
    "Ans 1: \n",
    "\n",
    " - NumPy is a powerful library for numerical operations in Python.\n",
    " - Pandas is a data manipulation and analysis library.\n",
    " - Seaborn is a statistical data visualization library based on Matplotlib\n",
    " - Matplotlib is a 2D plotting library for Python."
   ]
  },
  {
   "cell_type": "markdown",
   "metadata": {},
   "source": [
    "### Q2: Read the given dataset (1 Mark)"
   ]
  },
  {
   "cell_type": "code",
   "execution_count": 3,
   "metadata": {},
   "outputs": [],
   "source": [
    "#remove _____ & write the appropriate function name\n",
    "\n",
    "pima = pd.read_csv(\"diabetes.csv\")"
   ]
  },
  {
   "cell_type": "markdown",
   "metadata": {},
   "source": [
    "### Q3. Show the last 5 records of the dataset (1 Mark)"
   ]
  },
  {
   "cell_type": "code",
   "execution_count": 4,
   "metadata": {},
   "outputs": [
    {
     "data": {
      "text/html": [
       "<div>\n",
       "<style scoped>\n",
       "    .dataframe tbody tr th:only-of-type {\n",
       "        vertical-align: middle;\n",
       "    }\n",
       "\n",
       "    .dataframe tbody tr th {\n",
       "        vertical-align: top;\n",
       "    }\n",
       "\n",
       "    .dataframe thead th {\n",
       "        text-align: right;\n",
       "    }\n",
       "</style>\n",
       "<table border=\"1\" class=\"dataframe\">\n",
       "  <thead>\n",
       "    <tr style=\"text-align: right;\">\n",
       "      <th></th>\n",
       "      <th>Pregnancies</th>\n",
       "      <th>Glucose</th>\n",
       "      <th>BloodPressure</th>\n",
       "      <th>SkinThickness</th>\n",
       "      <th>Insulin</th>\n",
       "      <th>BMI</th>\n",
       "      <th>DiabetesPedigreeFunction</th>\n",
       "      <th>Age</th>\n",
       "      <th>Outcome</th>\n",
       "    </tr>\n",
       "  </thead>\n",
       "  <tbody>\n",
       "    <tr>\n",
       "      <th>995</th>\n",
       "      <td>2</td>\n",
       "      <td>173</td>\n",
       "      <td>79</td>\n",
       "      <td>32</td>\n",
       "      <td>474</td>\n",
       "      <td>35.504233</td>\n",
       "      <td>0.402867</td>\n",
       "      <td>21</td>\n",
       "      <td>1</td>\n",
       "    </tr>\n",
       "    <tr>\n",
       "      <th>996</th>\n",
       "      <td>13</td>\n",
       "      <td>132</td>\n",
       "      <td>70</td>\n",
       "      <td>30</td>\n",
       "      <td>111</td>\n",
       "      <td>35.271769</td>\n",
       "      <td>0.168845</td>\n",
       "      <td>42</td>\n",
       "      <td>1</td>\n",
       "    </tr>\n",
       "    <tr>\n",
       "      <th>997</th>\n",
       "      <td>3</td>\n",
       "      <td>132</td>\n",
       "      <td>87</td>\n",
       "      <td>44</td>\n",
       "      <td>156</td>\n",
       "      <td>34.794755</td>\n",
       "      <td>0.765003</td>\n",
       "      <td>29</td>\n",
       "      <td>1</td>\n",
       "    </tr>\n",
       "    <tr>\n",
       "      <th>998</th>\n",
       "      <td>0</td>\n",
       "      <td>140</td>\n",
       "      <td>0</td>\n",
       "      <td>0</td>\n",
       "      <td>0</td>\n",
       "      <td>41.926693</td>\n",
       "      <td>0.209833</td>\n",
       "      <td>28</td>\n",
       "      <td>1</td>\n",
       "    </tr>\n",
       "    <tr>\n",
       "      <th>999</th>\n",
       "      <td>4</td>\n",
       "      <td>93</td>\n",
       "      <td>59</td>\n",
       "      <td>35</td>\n",
       "      <td>93</td>\n",
       "      <td>45.914499</td>\n",
       "      <td>0.737636</td>\n",
       "      <td>29</td>\n",
       "      <td>1</td>\n",
       "    </tr>\n",
       "  </tbody>\n",
       "</table>\n",
       "</div>"
      ],
      "text/plain": [
       "     Pregnancies  Glucose  BloodPressure  SkinThickness  Insulin        BMI  \\\n",
       "995            2      173             79             32      474  35.504233   \n",
       "996           13      132             70             30      111  35.271769   \n",
       "997            3      132             87             44      156  34.794755   \n",
       "998            0      140              0              0        0  41.926693   \n",
       "999            4       93             59             35       93  45.914499   \n",
       "\n",
       "     DiabetesPedigreeFunction  Age  Outcome  \n",
       "995                  0.402867   21        1  \n",
       "996                  0.168845   42        1  \n",
       "997                  0.765003   29        1  \n",
       "998                  0.209833   28        1  \n",
       "999                  0.737636   29        1  "
      ]
     },
     "execution_count": 4,
     "metadata": {},
     "output_type": "execute_result"
    }
   ],
   "source": [
    "#remove ______ and write the appropriate number in the function\n",
    "\n",
    "pima.tail(5)"
   ]
  },
  {
   "cell_type": "markdown",
   "metadata": {},
   "source": [
    "### Q4. Show the first 5 records of the dataset (1 Mark)"
   ]
  },
  {
   "cell_type": "code",
   "execution_count": 5,
   "metadata": {},
   "outputs": [
    {
     "data": {
      "text/html": [
       "<div>\n",
       "<style scoped>\n",
       "    .dataframe tbody tr th:only-of-type {\n",
       "        vertical-align: middle;\n",
       "    }\n",
       "\n",
       "    .dataframe tbody tr th {\n",
       "        vertical-align: top;\n",
       "    }\n",
       "\n",
       "    .dataframe thead th {\n",
       "        text-align: right;\n",
       "    }\n",
       "</style>\n",
       "<table border=\"1\" class=\"dataframe\">\n",
       "  <thead>\n",
       "    <tr style=\"text-align: right;\">\n",
       "      <th></th>\n",
       "      <th>Pregnancies</th>\n",
       "      <th>Glucose</th>\n",
       "      <th>BloodPressure</th>\n",
       "      <th>SkinThickness</th>\n",
       "      <th>Insulin</th>\n",
       "      <th>BMI</th>\n",
       "      <th>DiabetesPedigreeFunction</th>\n",
       "      <th>Age</th>\n",
       "      <th>Outcome</th>\n",
       "    </tr>\n",
       "  </thead>\n",
       "  <tbody>\n",
       "    <tr>\n",
       "      <th>0</th>\n",
       "      <td>6</td>\n",
       "      <td>148</td>\n",
       "      <td>72</td>\n",
       "      <td>35</td>\n",
       "      <td>0</td>\n",
       "      <td>33.6</td>\n",
       "      <td>0.627</td>\n",
       "      <td>50</td>\n",
       "      <td>1</td>\n",
       "    </tr>\n",
       "    <tr>\n",
       "      <th>1</th>\n",
       "      <td>1</td>\n",
       "      <td>85</td>\n",
       "      <td>66</td>\n",
       "      <td>29</td>\n",
       "      <td>0</td>\n",
       "      <td>26.6</td>\n",
       "      <td>0.351</td>\n",
       "      <td>31</td>\n",
       "      <td>0</td>\n",
       "    </tr>\n",
       "    <tr>\n",
       "      <th>2</th>\n",
       "      <td>8</td>\n",
       "      <td>183</td>\n",
       "      <td>64</td>\n",
       "      <td>0</td>\n",
       "      <td>0</td>\n",
       "      <td>23.3</td>\n",
       "      <td>0.672</td>\n",
       "      <td>32</td>\n",
       "      <td>1</td>\n",
       "    </tr>\n",
       "    <tr>\n",
       "      <th>3</th>\n",
       "      <td>1</td>\n",
       "      <td>89</td>\n",
       "      <td>66</td>\n",
       "      <td>23</td>\n",
       "      <td>94</td>\n",
       "      <td>28.1</td>\n",
       "      <td>0.167</td>\n",
       "      <td>21</td>\n",
       "      <td>0</td>\n",
       "    </tr>\n",
       "    <tr>\n",
       "      <th>4</th>\n",
       "      <td>0</td>\n",
       "      <td>137</td>\n",
       "      <td>40</td>\n",
       "      <td>35</td>\n",
       "      <td>168</td>\n",
       "      <td>43.1</td>\n",
       "      <td>2.288</td>\n",
       "      <td>33</td>\n",
       "      <td>1</td>\n",
       "    </tr>\n",
       "  </tbody>\n",
       "</table>\n",
       "</div>"
      ],
      "text/plain": [
       "   Pregnancies  Glucose  BloodPressure  SkinThickness  Insulin   BMI  \\\n",
       "0            6      148             72             35        0  33.6   \n",
       "1            1       85             66             29        0  26.6   \n",
       "2            8      183             64              0        0  23.3   \n",
       "3            1       89             66             23       94  28.1   \n",
       "4            0      137             40             35      168  43.1   \n",
       "\n",
       "   DiabetesPedigreeFunction  Age  Outcome  \n",
       "0                     0.627   50        1  \n",
       "1                     0.351   31        0  \n",
       "2                     0.672   32        1  \n",
       "3                     0.167   21        0  \n",
       "4                     2.288   33        1  "
      ]
     },
     "execution_count": 5,
     "metadata": {},
     "output_type": "execute_result"
    }
   ],
   "source": [
    "#remove _____ & write the appropriate function name and the number of rows to get in the output\n",
    "\n",
    "pima.head(5)"
   ]
  },
  {
   "cell_type": "markdown",
   "metadata": {},
   "source": [
    "### Q5. Find the dimension of the `pima` dataframe. What do you understand by the dimension of the dataset? (1 Mark)"
   ]
  },
  {
   "cell_type": "code",
   "execution_count": 6,
   "metadata": {},
   "outputs": [
    {
     "data": {
      "text/plain": [
       "(1000, 9)"
      ]
     },
     "execution_count": 6,
     "metadata": {},
     "output_type": "execute_result"
    }
   ],
   "source": [
    "#remove _____ & write the appropriate function name\n",
    "\n",
    "pima.shape"
   ]
  },
  {
   "cell_type": "markdown",
   "metadata": {},
   "source": [
    "#### Write your Answer here: \n"
   ]
  },
  {
   "cell_type": "markdown",
   "metadata": {},
   "source": [
    "Ans 5:\n",
    "We use the shape attribute to find out the structure of the dataframe, with this we understand that it has 1000 rows and 9 columns."
   ]
  },
  {
   "cell_type": "markdown",
   "metadata": {},
   "source": [
    "### Q6. Find the size of the `pima` dataframe. (1 Mark)"
   ]
  },
  {
   "cell_type": "code",
   "execution_count": 7,
   "metadata": {},
   "outputs": [
    {
     "data": {
      "text/plain": [
       "9000"
      ]
     },
     "execution_count": 7,
     "metadata": {},
     "output_type": "execute_result"
    }
   ],
   "source": [
    "#remove _____ & write the appropriate function name\n",
    "\n",
    "pima.size"
   ]
  },
  {
   "cell_type": "markdown",
   "metadata": {},
   "source": [
    "#### Write your Answer here: \n"
   ]
  },
  {
   "cell_type": "markdown",
   "metadata": {},
   "source": [
    "Ans 6:We use the size function to find out the total number of elements in the dataframe which is 9000."
   ]
  },
  {
   "cell_type": "markdown",
   "metadata": {},
   "source": [
    "### Q7. Display the data types of all the variables in the data set? (1 Mark)\n"
   ]
  },
  {
   "cell_type": "code",
   "execution_count": 8,
   "metadata": {},
   "outputs": [
    {
     "data": {
      "text/plain": [
       "Pregnancies                   int64\n",
       "Glucose                       int64\n",
       "BloodPressure                 int64\n",
       "SkinThickness                 int64\n",
       "Insulin                       int64\n",
       "BMI                         float64\n",
       "DiabetesPedigreeFunction    float64\n",
       "Age                           int64\n",
       "Outcome                       int64\n",
       "dtype: object"
      ]
     },
     "execution_count": 8,
     "metadata": {},
     "output_type": "execute_result"
    }
   ],
   "source": [
    "#remove _____ & write the appropriate function name\n",
    "\n",
    "pima.dtypes"
   ]
  },
  {
   "cell_type": "markdown",
   "metadata": {},
   "source": [
    "### Q8. Are there any missing values in the `pima` dataframe?  Which variables have missing values? (1 Mark)"
   ]
  },
  {
   "cell_type": "code",
   "execution_count": 11,
   "metadata": {},
   "outputs": [
    {
     "data": {
      "text/plain": [
       "False"
      ]
     },
     "execution_count": 11,
     "metadata": {},
     "output_type": "execute_result"
    }
   ],
   "source": [
    "#remove _____ & write the appropriate function name\n",
    "\n",
    "pima.isnull().values.any()"
   ]
  },
  {
   "cell_type": "markdown",
   "metadata": {},
   "source": [
    "#### Write your Answer here: \n"
   ]
  },
  {
   "cell_type": "markdown",
   "metadata": {},
   "source": [
    "Ans 8: We use theisnull() function to find out if there are any missing values. We do not have any missing values as the boolean returned is false."
   ]
  },
  {
   "cell_type": "markdown",
   "metadata": {},
   "source": [
    "### Q9. Find the summary statistics for all variables except for  `'Outcome'` variable? Choose any one column/variable and explain all the statistical measures. (2 Marks)"
   ]
  },
  {
   "cell_type": "code",
   "execution_count": 55,
   "metadata": {},
   "outputs": [
    {
     "data": {
      "text/html": [
       "<div>\n",
       "<style scoped>\n",
       "    .dataframe tbody tr th:only-of-type {\n",
       "        vertical-align: middle;\n",
       "    }\n",
       "\n",
       "    .dataframe tbody tr th {\n",
       "        vertical-align: top;\n",
       "    }\n",
       "\n",
       "    .dataframe thead th {\n",
       "        text-align: right;\n",
       "    }\n",
       "</style>\n",
       "<table border=\"1\" class=\"dataframe\">\n",
       "  <thead>\n",
       "    <tr style=\"text-align: right;\">\n",
       "      <th></th>\n",
       "      <th>Pregnancies</th>\n",
       "      <th>Glucose</th>\n",
       "      <th>BloodPressure</th>\n",
       "      <th>SkinThickness</th>\n",
       "      <th>Insulin</th>\n",
       "      <th>BMI</th>\n",
       "      <th>DiabetesPedigreeFunction</th>\n",
       "      <th>Age</th>\n",
       "    </tr>\n",
       "  </thead>\n",
       "  <tbody>\n",
       "    <tr>\n",
       "      <th>count</th>\n",
       "      <td>1000.000000</td>\n",
       "      <td>1000.00000</td>\n",
       "      <td>1000.000000</td>\n",
       "      <td>1000.000000</td>\n",
       "      <td>1000.000000</td>\n",
       "      <td>1000.000000</td>\n",
       "      <td>1000.000000</td>\n",
       "      <td>1000.000000</td>\n",
       "    </tr>\n",
       "    <tr>\n",
       "      <th>mean</th>\n",
       "      <td>4.051000</td>\n",
       "      <td>125.21600</td>\n",
       "      <td>69.072000</td>\n",
       "      <td>20.755000</td>\n",
       "      <td>83.086000</td>\n",
       "      <td>32.664772</td>\n",
       "      <td>0.494090</td>\n",
       "      <td>33.830000</td>\n",
       "    </tr>\n",
       "    <tr>\n",
       "      <th>std</th>\n",
       "      <td>3.325576</td>\n",
       "      <td>32.27772</td>\n",
       "      <td>20.465328</td>\n",
       "      <td>16.008599</td>\n",
       "      <td>117.255326</td>\n",
       "      <td>7.563614</td>\n",
       "      <td>0.322158</td>\n",
       "      <td>11.268189</td>\n",
       "    </tr>\n",
       "    <tr>\n",
       "      <th>min</th>\n",
       "      <td>0.000000</td>\n",
       "      <td>0.00000</td>\n",
       "      <td>0.000000</td>\n",
       "      <td>0.000000</td>\n",
       "      <td>0.000000</td>\n",
       "      <td>0.000000</td>\n",
       "      <td>0.078000</td>\n",
       "      <td>21.000000</td>\n",
       "    </tr>\n",
       "    <tr>\n",
       "      <th>25%</th>\n",
       "      <td>1.000000</td>\n",
       "      <td>102.00000</td>\n",
       "      <td>64.000000</td>\n",
       "      <td>0.000000</td>\n",
       "      <td>0.000000</td>\n",
       "      <td>28.275000</td>\n",
       "      <td>0.258750</td>\n",
       "      <td>25.000000</td>\n",
       "    </tr>\n",
       "    <tr>\n",
       "      <th>50%</th>\n",
       "      <td>3.000000</td>\n",
       "      <td>122.00000</td>\n",
       "      <td>72.000000</td>\n",
       "      <td>24.000000</td>\n",
       "      <td>23.000000</td>\n",
       "      <td>32.800000</td>\n",
       "      <td>0.408500</td>\n",
       "      <td>30.000000</td>\n",
       "    </tr>\n",
       "    <tr>\n",
       "      <th>75%</th>\n",
       "      <td>6.000000</td>\n",
       "      <td>146.00000</td>\n",
       "      <td>80.000000</td>\n",
       "      <td>33.000000</td>\n",
       "      <td>133.500000</td>\n",
       "      <td>36.900000</td>\n",
       "      <td>0.658500</td>\n",
       "      <td>41.000000</td>\n",
       "    </tr>\n",
       "    <tr>\n",
       "      <th>max</th>\n",
       "      <td>17.000000</td>\n",
       "      <td>199.00000</td>\n",
       "      <td>122.000000</td>\n",
       "      <td>99.000000</td>\n",
       "      <td>846.000000</td>\n",
       "      <td>67.100000</td>\n",
       "      <td>2.420000</td>\n",
       "      <td>81.000000</td>\n",
       "    </tr>\n",
       "  </tbody>\n",
       "</table>\n",
       "</div>"
      ],
      "text/plain": [
       "       Pregnancies     Glucose  BloodPressure  SkinThickness      Insulin  \\\n",
       "count  1000.000000  1000.00000    1000.000000    1000.000000  1000.000000   \n",
       "mean      4.051000   125.21600      69.072000      20.755000    83.086000   \n",
       "std       3.325576    32.27772      20.465328      16.008599   117.255326   \n",
       "min       0.000000     0.00000       0.000000       0.000000     0.000000   \n",
       "25%       1.000000   102.00000      64.000000       0.000000     0.000000   \n",
       "50%       3.000000   122.00000      72.000000      24.000000    23.000000   \n",
       "75%       6.000000   146.00000      80.000000      33.000000   133.500000   \n",
       "max      17.000000   199.00000     122.000000      99.000000   846.000000   \n",
       "\n",
       "               BMI  DiabetesPedigreeFunction          Age  \n",
       "count  1000.000000               1000.000000  1000.000000  \n",
       "mean     32.664772                  0.494090    33.830000  \n",
       "std       7.563614                  0.322158    11.268189  \n",
       "min       0.000000                  0.078000    21.000000  \n",
       "25%      28.275000                  0.258750    25.000000  \n",
       "50%      32.800000                  0.408500    30.000000  \n",
       "75%      36.900000                  0.658500    41.000000  \n",
       "max      67.100000                  2.420000    81.000000  "
      ]
     },
     "execution_count": 55,
     "metadata": {},
     "output_type": "execute_result"
    }
   ],
   "source": [
    "#remove _____ & write the appropriate function name\n",
    "\n",
    "pima.iloc[:,:-1].describe()"
   ]
  },
  {
   "cell_type": "code",
   "execution_count": 56,
   "metadata": {},
   "outputs": [
    {
     "data": {
      "text/plain": [
       "count    1000.00000\n",
       "mean      125.21600\n",
       "std        32.27772\n",
       "min         0.00000\n",
       "25%       102.00000\n",
       "50%       122.00000\n",
       "75%       146.00000\n",
       "max       199.00000\n",
       "Name: Glucose, dtype: float64"
      ]
     },
     "execution_count": 56,
     "metadata": {},
     "output_type": "execute_result"
    }
   ],
   "source": [
    "pima['Glucose'].describe()"
   ]
  },
  {
   "cell_type": "markdown",
   "metadata": {},
   "source": [
    "#### Write your Answer here: \n"
   ]
  },
  {
   "cell_type": "markdown",
   "metadata": {},
   "source": [
    "Ans 9:\n",
    "\n",
    "With respect to the Glucose column below are the stats:\n",
    "\n",
    "- Count:Number of non-null values.\n",
    "  Value: 1000.00000\n",
    "\n",
    "- Mean: Average value of the 'Glucose' column.\n",
    "  Value: 125.21600\n",
    "  \n",
    "- Standard Deviation (std):Measure of the amount of variation or dispersion in the column.\n",
    "  Value: 32.27772\n",
    "  \n",
    "- Minimum (min):The smallest value in the column.\n",
    "  Value: 0.00000\n",
    "  \n",
    "- 25th Percentile (Q1):Value below which 25% of the data falls in the column.\n",
    "  Value: 102.00000\n",
    "  \n",
    "- 50th Percentile (Median or Q2):The middle value of the  column.\n",
    "  Value: 122.00000\n",
    "  \n",
    "- 75th Percentile (Q3):Value below which 75% of the data falls in the column.\n",
    "  Value: 146.00000\n",
    "  \n",
    "- Maximum (max):The largest value in the column.\n",
    "  Value: 199.00000\n",
    "  \n",
    "- Name:The name of the Series (column) for which these statistics are calculated .\n",
    "\n",
    "- dtype: float64:Data type of the values in the column (floating-point numbers)."
   ]
  },
  {
   "cell_type": "markdown",
   "metadata": {},
   "source": [
    "### Q10. Plot the distribution plot for the variable `'BloodPressure'`. Write your observations from the plot. (2 Marks)"
   ]
  },
  {
   "cell_type": "code",
   "execution_count": 60,
   "metadata": {},
   "outputs": [
    {
     "data": {
      "image/png": "[encoded data removed]",
      "text/plain": [
       "<Figure size 360x360 with 1 Axes>"
      ]
     },
     "metadata": {
      "needs_background": "light"
     },
     "output_type": "display_data"
    }
   ],
   "source": [
    "#remove _____ & write the appropriate library name\n",
    "\n",
    "sns.displot(pima['BloodPressure'], kind='kde')\n",
    "plt.show()"
   ]
  },
  {
   "cell_type": "markdown",
   "metadata": {},
   "source": [
    "#### Write your Answer here: \n"
   ]
  },
  {
   "cell_type": "markdown",
   "metadata": {},
   "source": [
    "Ans 10:\n",
    "\n",
    "sns.displot(pima['BloodPressure'], kind='kde')\n",
    "plt.show()\n",
    "\n",
    "Some key observations from the plot are as below:\n",
    "-  Notable peaks are observed at blood pressure levels 0 and 70.\n",
    "-  A distinct concentration of instances is evident at these specific blood pressure values.\n",
    "-  The distribution appears bimodal, indicating the presence of distinct subgroups or patterns within the data.\n",
    "-  The density values on the y-axis represent the concentration of data points at different blood pressure levels.\n",
    "-  Higher density values indicate a higher concentration of instances in those specific blood pressure ranges."
   ]
  },
  {
   "cell_type": "markdown",
   "metadata": {},
   "source": [
    "### Q11. What is the `'BMI'` for the person having the highest `'Glucose'`? (1 Mark)"
   ]
  },
  {
   "cell_type": "code",
   "execution_count": 19,
   "metadata": {},
   "outputs": [
    {
     "data": {
      "text/plain": [
       "661    42.9\n",
       "Name: BMI, dtype: float64"
      ]
     },
     "execution_count": 19,
     "metadata": {},
     "output_type": "execute_result"
    }
   ],
   "source": [
    "#remove _____ & write the appropriate function name\n",
    "\n",
    "pima[pima['Glucose']==pima['Glucose'].max()]['BMI']"
   ]
  },
  {
   "cell_type": "markdown",
   "metadata": {},
   "source": [
    "#### Write your Answer here: \n"
   ]
  },
  {
   "cell_type": "markdown",
   "metadata": {},
   "source": [
    "Ans 11:\n",
    "\n",
    "pima[pima['Glucose']==pima['Glucose'].max()]['BMI']\n",
    "\n",
    "The result 661 42.9 Name: BMI, dtype: float64 indicates that the person with the highest 'Glucose' level in the dataset has a 'BMI' of 42.9. The index '661' corresponds to the row number or index"
   ]
  },
  {
   "cell_type": "markdown",
   "metadata": {},
   "source": [
    "### Q12.\n",
    "#### 12.1 What is the mean of the variable `'BMI'`? \n",
    "#### 12.2 What is the median of the variable `'BMI'`? \n",
    "#### 12.3 What is the mode of the variable `'BMI'`?\n",
    "#### 12.4 Are the three measures of central tendency equal?\n",
    "\n",
    "### (2 Marks)"
   ]
  },
  {
   "cell_type": "code",
   "execution_count": null,
   "metadata": {},
   "outputs": [],
   "source": [
    "#remove _____ & write the appropriate function name\n",
    "\n",
    "m1 = pima['BMI'].____()  #Mean\n",
    "print(m1)\n",
    "m2 = pima['BMI'].____()  #Median\n",
    "print(m2)\n",
    "m3 = pima['BMI'].____()[0]  #Mode\n",
    "print(m3)"
   ]
  },
  {
   "cell_type": "markdown",
   "metadata": {},
   "source": [
    "#### Write your Answer here: \n"
   ]
  },
  {
   "cell_type": "markdown",
   "metadata": {},
   "source": [
    "#Ans 12: \n",
    "\n",
    "The mean is 32.664772391408796, median is 32.8 and mode is 32.\n",
    "\n",
    "12.1 Mean : 32.664772391408796\n",
    "12.2 Median : 32.8\n",
    "12.3 Mode : 32\n",
    "12.4 Since these values are not exactly the same, the measures of central tendency are not equal in this dataset.\n"
   ]
  },
  {
   "cell_type": "markdown",
   "metadata": {},
   "source": [
    "### Q13. How many women's `'Glucose'` level is above the mean level of `'Glucose'`? (1 Mark)"
   ]
  },
  {
   "cell_type": "code",
   "execution_count": 61,
   "metadata": {},
   "outputs": [
    {
     "data": {
      "text/plain": [
       "449"
      ]
     },
     "execution_count": 61,
     "metadata": {},
     "output_type": "execute_result"
    }
   ],
   "source": [
    "#remove _____ & write the appropriate function name\n",
    "\n",
    "pima[pima['Glucose']>pima['Glucose'].mean()].shape[0]"
   ]
  },
  {
   "cell_type": "markdown",
   "metadata": {},
   "source": [
    "#### Write your Answer here: \n"
   ]
  },
  {
   "cell_type": "markdown",
   "metadata": {},
   "source": [
    "Ans 13:The missng function is mean and hence 449 women's Glucose level is above the mean level"
   ]
  },
  {
   "cell_type": "markdown",
   "metadata": {},
   "source": [
    "### Q14. Create the pairplot for variables `'Glucose'`, `'SkinThickness'` and `'DiabetesPedigreeFunction'`. Write you observations from the plot. (2 Marks)"
   ]
  },
  {
   "cell_type": "code",
   "execution_count": 4,
   "metadata": {},
   "outputs": [],
   "source": [
    "#remove _____ & write the appropriate function and argument names\n",
    "sns.______(data=pima, ___=['Glucose', 'SkinThickness', 'DiabetesPedigreeFunction'], hue='Outcome')\n",
    "plt.show()"
   ]
  },
  {
   "cell_type": "markdown",
   "metadata": {},
   "source": [
    "#### Write your Answer here: \n"
   ]
  },
  {
   "cell_type": "code",
   "execution_count": 26,
   "metadata": {},
   "outputs": [
    {
     "data": {
      "image/png": "[encoded data removed]",
      "text/plain": [
       "<Figure size 593.25x540 with 12 Axes>"
      ]
     },
     "metadata": {
      "needs_background": "light"
     },
     "output_type": "display_data"
    }
   ],
   "source": [
    "#Ans 14:\n",
    "sns.pairplot(data=pima, vars=['Glucose', 'SkinThickness', 'DiabetesPedigreeFunction'], hue='Outcome')\n",
    "plt.show()"
   ]
  },
  {
   "cell_type": "markdown",
   "metadata": {},
   "source": [
    "The three plots show the relationships between the features \"Glucose,\" \"SkinThickness,\" and \"DiabetesPedigreeFunction\" in different ways.\n",
    "\n",
    "*1.Glucose Vs Skin thickness and Glucose Vs DiabetesPedigreeFunction* \n",
    "This plot shows the relationship between Glucose Vs Skin thickness and Glucose Vs DiabetesPedigreeFunction .\n",
    "-There is a positive correlation between Glucose and Skin thickness, meaning that as glucose increases, so does skin thickness. This is likely because people with diabetes tend to have higher levels of glucose in their blood, which can lead to increased collagen production in the skin.\n",
    "-Similarly there is a positive correlation between Glucose and DiabetesPedigreeFunction.\n",
    "\n",
    "*2.Skin thickness Vs Glucose and  Skin thickness Vs Diabetespedigreefunction*\n",
    "-This plot shows the relationship between Skin thickness Vs Glucose and  Skin thickness Vs Diabetes pedigree function. There is  a positive correlation between Skin thickness and  Glucose, meaning that as skin thickness  increases, so does glucose.\n",
    "-Diabetes pedigree function is a measure of a person's genetic risk for developing diabetes. There is a negative correlation    between the two variables, meaning that as skin thickness increases, diabetes pedigree function decreases. This is because people with thicker skin tend to have lower levels of insulin sensitivity, which is a risk factor for diabetes.\n",
    "\n",
    "*3.Diabetes pedigree function Vs Glucose and Diabetespedigreefunction Vs  Skin thickness*\n",
    "-This plot shows the relationship between Diabetes pedigree function Vs Glucose and Diabetes pedigree function Vs  skin thickness . \n",
    "-There is a positive correlation between the two variables, meaning that as diabetes pedigree function increases, so does glucose . This is likely because people with diabetes tend to have both higher levels of glucose in their blood and a higher genetic risk for developing diabetes.\n",
    "-However there is a negative correlation between Diabetes pedigree function and the skin thickness, meaning that as diabetes pedigree function increases, skin thickness decreases\n"
   ]
  },
  {
   "cell_type": "markdown",
   "metadata": {},
   "source": [
    "### Q15. Plot the scatterplot between `'Glucose'` and `'Insulin'`. Write your observations from the plot. (1 Mark)"
   ]
  },
  {
   "cell_type": "code",
   "execution_count": null,
   "metadata": {
    "scrolled": false
   },
   "outputs": [],
   "source": [
    "#remove _____ & write the appropriate function name\n",
    "sns.scatterplot(x='Glucose',y='Insulin',data=___)\n",
    "plt.show("
   ]
  },
  {
   "cell_type": "markdown",
   "metadata": {},
   "source": [
    "#### Write your Answer here: \n"
   ]
  },
  {
   "cell_type": "code",
   "execution_count": 62,
   "metadata": {},
   "outputs": [
    {
     "data": {
      "image/png": "[encoded data removed]",
      "text/plain": [
       "<Figure size 432x288 with 1 Axes>"
      ]
     },
     "metadata": {
      "needs_background": "light"
     },
     "output_type": "display_data"
    }
   ],
   "source": [
    "#Ans 15: the scatter plot indicates a generally weak positive correlation between glucose and insulin, with the presence of outliers or instances showing a different pattern.\n",
    "sns.scatterplot(x='Glucose',y='Insulin',hue='Outcome', data=pima)\n",
    "plt.legend(title='Outcome', labels=['Insuline', 'Glucose'])\n",
    "plt.show()"
   ]
  },
  {
   "cell_type": "markdown",
   "metadata": {},
   "source": [
    "1.The scatter plot you sent shows the relationship between Insulin levels and Blood glucose levels. There is a positive correlation between the two variables, meaning that as blood glucose levels increase, so do insulin levels. This is because insulin is a hormone that helps the body's cells to absorb glucose from the bloodstream. When blood glucose levels are high, the pancreas releases more insulin to try to lower them.\n",
    "\n",
    "2.The plot also shows that there is a lot of variation in insulin levels at any given blood glucose level. This is because insulin levels are also influenced by other factors, such as diet, exercise, and stress.\n",
    "\n",
    "3.Some additional insights from the plot:\n",
    "-People with higher blood glucose levels also tend to have higher insulin levels. This is because their bodies are trying to compensate for the high blood glucose levels by producing more insulin.\n",
    "-There is a wider range of insulin levels at higher blood glucose levels. This suggests that individual factors, such as insulin sensitivity and resistance, have a greater impact on insulin levels at higher blood glucose levels.\n",
    "-There is a small group of people with high blood glucose levels but relatively low insulin levels. This may be due to insulin resistance, where the body's cells do not respond properly to insulin.\n",
    "\n",
    "4.Overall, the plot suggests that blood glucose levels are a major determinant of insulin levels. However, it is important to note that other factors can also play a role in insulin secretion."
   ]
  },
  {
   "cell_type": "markdown",
   "metadata": {},
   "source": [
    "### Q16. Plot the boxplot for the 'Age' variable. Are there outliers? (1 Mark)"
   ]
  },
  {
   "cell_type": "code",
   "execution_count": null,
   "metadata": {},
   "outputs": [],
   "source": [
    "#remove _____ & write the appropriate function and column name \n",
    "plt.______(pima['____'])\n",
    "plt.title('Boxplot of Age')\n",
    "plt.ylabel('Age')\n",
    "plt.show()"
   ]
  },
  {
   "cell_type": "markdown",
   "metadata": {},
   "source": [
    "#### Write your Answer here: \n"
   ]
  },
  {
   "cell_type": "code",
   "execution_count": 71,
   "metadata": {},
   "outputs": [
    {
     "data": {
      "image/png": "[encoded data removed]",
      "text/plain": [
       "<Figure size 432x288 with 1 Axes>"
      ]
     },
     "metadata": {},
     "output_type": "display_data"
    }
   ],
   "source": [
    "#Ans 16:The box plot shows the presence of outliers above the horizontal line.\n",
    "plt.boxplot(pima['Age'])\n",
    "plt.title('Boxplot of Age')\n",
    "plt.ylabel('Age')\n",
    "plt.show()"
   ]
  },
  {
   "cell_type": "markdown",
   "metadata": {},
   "source": [
    "In a boxplot, outliers are often identified as individual points that fall outside the whiskers of the boxplot. The whiskers typically extend to 1.5 times the interquartile range (IQR) below the first quartile (Q1) and above the third quartile (Q3). Any data point beyond this range is considered a potential outlier.As we can see all the datapoints beyond the whiskers are outliers."
   ]
  },
  {
   "cell_type": "markdown",
   "metadata": {},
   "source": [
    "### Q17. Find and visualize the the correlation matrix. Write your observations from the plot. (1 Mark)"
   ]
  },
  {
   "cell_type": "raw",
   "metadata": {},
   "source": [
    "#remove _____ & write the appropriate function name\n",
    "\n",
    "plt.figure(figsize=(8,8))\n",
    "sns._______(corr_matrix, annot = True)\n",
    "\n",
    "# display the plot\n",
    "plt.show()"
   ]
  },
  {
   "cell_type": "markdown",
   "metadata": {},
   "source": [
    "#### Write your Answer here: \n"
   ]
  },
  {
   "cell_type": "code",
   "execution_count": 78,
   "metadata": {
    "scrolled": true
   },
   "outputs": [
    {
     "data": {
      "text/html": [
       "<div>\n",
       "<style scoped>\n",
       "    .dataframe tbody tr th:only-of-type {\n",
       "        vertical-align: middle;\n",
       "    }\n",
       "\n",
       "    .dataframe tbody tr th {\n",
       "        vertical-align: top;\n",
       "    }\n",
       "\n",
       "    .dataframe thead th {\n",
       "        text-align: right;\n",
       "    }\n",
       "</style>\n",
       "<table border=\"1\" class=\"dataframe\">\n",
       "  <thead>\n",
       "    <tr style=\"text-align: right;\">\n",
       "      <th></th>\n",
       "      <th>Pregnancies</th>\n",
       "      <th>Glucose</th>\n",
       "      <th>BloodPressure</th>\n",
       "      <th>SkinThickness</th>\n",
       "      <th>Insulin</th>\n",
       "      <th>BMI</th>\n",
       "      <th>DiabetesPedigreeFunction</th>\n",
       "      <th>Age</th>\n",
       "    </tr>\n",
       "  </thead>\n",
       "  <tbody>\n",
       "    <tr>\n",
       "      <th>Pregnancies</th>\n",
       "      <td>1.000000</td>\n",
       "      <td>0.112930</td>\n",
       "      <td>0.127463</td>\n",
       "      <td>-0.080033</td>\n",
       "      <td>-0.064909</td>\n",
       "      <td>0.012920</td>\n",
       "      <td>-0.025452</td>\n",
       "      <td>0.548665</td>\n",
       "    </tr>\n",
       "    <tr>\n",
       "      <th>Glucose</th>\n",
       "      <td>0.112930</td>\n",
       "      <td>1.000000</td>\n",
       "      <td>0.134993</td>\n",
       "      <td>0.050656</td>\n",
       "      <td>0.334175</td>\n",
       "      <td>0.222138</td>\n",
       "      <td>0.127004</td>\n",
       "      <td>0.255567</td>\n",
       "    </tr>\n",
       "    <tr>\n",
       "      <th>BloodPressure</th>\n",
       "      <td>0.127463</td>\n",
       "      <td>0.134993</td>\n",
       "      <td>1.000000</td>\n",
       "      <td>0.249063</td>\n",
       "      <td>0.117369</td>\n",
       "      <td>0.247275</td>\n",
       "      <td>0.059303</td>\n",
       "      <td>0.240416</td>\n",
       "    </tr>\n",
       "    <tr>\n",
       "      <th>SkinThickness</th>\n",
       "      <td>-0.080033</td>\n",
       "      <td>0.050656</td>\n",
       "      <td>0.249063</td>\n",
       "      <td>1.000000</td>\n",
       "      <td>0.472663</td>\n",
       "      <td>0.387055</td>\n",
       "      <td>0.214026</td>\n",
       "      <td>-0.121236</td>\n",
       "    </tr>\n",
       "    <tr>\n",
       "      <th>Insulin</th>\n",
       "      <td>-0.064909</td>\n",
       "      <td>0.334175</td>\n",
       "      <td>0.117369</td>\n",
       "      <td>0.472663</td>\n",
       "      <td>1.000000</td>\n",
       "      <td>0.198281</td>\n",
       "      <td>0.180284</td>\n",
       "      <td>-0.039887</td>\n",
       "    </tr>\n",
       "    <tr>\n",
       "      <th>BMI</th>\n",
       "      <td>0.012920</td>\n",
       "      <td>0.222138</td>\n",
       "      <td>0.247275</td>\n",
       "      <td>0.387055</td>\n",
       "      <td>0.198281</td>\n",
       "      <td>1.000000</td>\n",
       "      <td>0.163270</td>\n",
       "      <td>0.023921</td>\n",
       "    </tr>\n",
       "    <tr>\n",
       "      <th>DiabetesPedigreeFunction</th>\n",
       "      <td>-0.025452</td>\n",
       "      <td>0.127004</td>\n",
       "      <td>0.059303</td>\n",
       "      <td>0.214026</td>\n",
       "      <td>0.180284</td>\n",
       "      <td>0.163270</td>\n",
       "      <td>1.000000</td>\n",
       "      <td>0.006809</td>\n",
       "    </tr>\n",
       "    <tr>\n",
       "      <th>Age</th>\n",
       "      <td>0.548665</td>\n",
       "      <td>0.255567</td>\n",
       "      <td>0.240416</td>\n",
       "      <td>-0.121236</td>\n",
       "      <td>-0.039887</td>\n",
       "      <td>0.023921</td>\n",
       "      <td>0.006809</td>\n",
       "      <td>1.000000</td>\n",
       "    </tr>\n",
       "  </tbody>\n",
       "</table>\n",
       "</div>"
      ],
      "text/plain": [
       "                          Pregnancies   Glucose  BloodPressure  SkinThickness  \\\n",
       "Pregnancies                  1.000000  0.112930       0.127463      -0.080033   \n",
       "Glucose                      0.112930  1.000000       0.134993       0.050656   \n",
       "BloodPressure                0.127463  0.134993       1.000000       0.249063   \n",
       "SkinThickness               -0.080033  0.050656       0.249063       1.000000   \n",
       "Insulin                     -0.064909  0.334175       0.117369       0.472663   \n",
       "BMI                          0.012920  0.222138       0.247275       0.387055   \n",
       "DiabetesPedigreeFunction    -0.025452  0.127004       0.059303       0.214026   \n",
       "Age                          0.548665  0.255567       0.240416      -0.121236   \n",
       "\n",
       "                           Insulin       BMI  DiabetesPedigreeFunction  \\\n",
       "Pregnancies              -0.064909  0.012920                 -0.025452   \n",
       "Glucose                   0.334175  0.222138                  0.127004   \n",
       "BloodPressure             0.117369  0.247275                  0.059303   \n",
       "SkinThickness             0.472663  0.387055                  0.214026   \n",
       "Insulin                   1.000000  0.198281                  0.180284   \n",
       "BMI                       0.198281  1.000000                  0.163270   \n",
       "DiabetesPedigreeFunction  0.180284  0.163270                  1.000000   \n",
       "Age                      -0.039887  0.023921                  0.006809   \n",
       "\n",
       "                               Age  \n",
       "Pregnancies               0.548665  \n",
       "Glucose                   0.255567  \n",
       "BloodPressure             0.240416  \n",
       "SkinThickness            -0.121236  \n",
       "Insulin                  -0.039887  \n",
       "BMI                       0.023921  \n",
       "DiabetesPedigreeFunction  0.006809  \n",
       "Age                       1.000000  "
      ]
     },
     "execution_count": 78,
     "metadata": {},
     "output_type": "execute_result"
    },
    {
     "data": {
      "text/plain": [
       "<Figure size 576x576 with 0 Axes>"
      ]
     },
     "metadata": {},
     "output_type": "display_data"
    }
   ],
   "source": [
    "#Ans 17:\n",
    "plt.figure(figsize=(8,8))\n",
    "corr_matrix"
   ]
  },
  {
   "cell_type": "code",
   "execution_count": 79,
   "metadata": {},
   "outputs": [
    {
     "data": {
      "text/plain": [
       "<AxesSubplot:>"
      ]
     },
     "execution_count": 79,
     "metadata": {},
     "output_type": "execute_result"
    },
    {
     "data": {
      "image/png": "[encoded data removed]",
      "text/plain": [
       "<Figure size 432x288 with 2 Axes>"
      ]
     },
     "metadata": {},
     "output_type": "display_data"
    }
   ],
   "source": [
    "sns.heatmap(corr_matrix, annot = True)"
   ]
  },
  {
   "cell_type": "markdown",
   "metadata": {},
   "source": [
    "The above correlation matrix, shows the correlation coefficients between the different features .\n",
    "The correlation coefficient is a measure of how closely two variables are related to each other. A correlation coefficient of 1 indicates a perfect positive correlation, meaning that the two variables always move in the same direction. A correlation coefficient of -1 indicates a perfect negative correlation, meaning that the two variables always move in opposite directions. A correlation coefficient of 0 indicates no correlation between the two variables.\n",
    "\n",
    "*Positive Correlations*:\n",
    "\n",
    "Pregnancies and Age:\n",
    "Strong positive correlation (0.55), indicating that as the number of pregnancies increases, age tends to increase significantly.\n",
    "\n",
    "Glucose and Age:\n",
    "Moderate positive correlation (0.26), suggesting that glucose levels may increase with age.\n",
    "\n",
    "BMI and Blood Pressure:\n",
    "Moderate positive correlation (0.25), indicating a tendency for higher BMI to be associated with slightly higher blood pressure.\n",
    "\n",
    "Insulin and Glucose:\n",
    "Moderate positive correlation (0.33), suggesting a tendency for higher insulin levels in individuals with higher glucose levels.\n",
    "\n",
    "*Negative Correlations*:\n",
    "\n",
    "Pregnancies and Skin Thickness:\n",
    "Negative correlation (-0.08), suggesting a slight tendency for individuals with more pregnancies to have thinner skin.\n",
    "\n",
    "Insulin and Age:\n",
    "Negative correlation (-0.04), indicating a slight tendency for insulin levels to decrease with age.\n",
    "\n",
    "Skin Thickness and Age:\n",
    "Negative correlation (-0.12), suggesting a slight tendency for skin thickness to decrease with age.\n",
    "\n",
    "Insulin and BMI:\n",
    "Negative correlation (-0.04), indicating a slight tendency for individuals with higher BMI to have slightly lower insulin levels."
   ]
  },
  {
   "cell_type": "markdown",
   "metadata": {},
   "source": [
    "    "
   ]
  },
  {
   "cell_type": "markdown",
   "metadata": {},
   "source": [
    "## Model Training"
   ]
  },
  {
   "cell_type": "markdown",
   "metadata": {},
   "source": [
    "### Q18. Split and scale the data (2 Mark)"
   ]
  },
  {
   "cell_type": "code",
   "execution_count": 36,
   "metadata": {},
   "outputs": [],
   "source": [
    "# Split the data into dependent and independent variables\n",
    "# remove _____ & write the appropriate function variable name\n",
    "y = pima['Outcome']\n",
    "x = pima.drop('Outcome', axis = 1)"
   ]
  },
  {
   "cell_type": "code",
   "execution_count": 37,
   "metadata": {},
   "outputs": [],
   "source": [
    "# Using StandarScaler scale the data\n",
    "# remove _____ & write the appropriate function function name\n",
    "\n",
    "from sklearn.preprocessing import StandardScaler\n",
    "scaler = StandardScaler()\n",
    "X = scaler.fit_transform(x)"
   ]
  },
  {
   "cell_type": "code",
   "execution_count": 72,
   "metadata": {},
   "outputs": [
    {
     "name": "stdout",
     "output_type": "stream",
     "text": [
      "(850, 8)\n",
      "(850,)\n",
      "(150, 8)\n",
      "(850,)\n"
     ]
    }
   ],
   "source": [
    "# Splitting the data into train and test. Use test size as 15%\n",
    "# remove _____ & complete the code\n",
    "\n",
    "from sklearn.model_selection import train_test_split\n",
    "x_train, x_test, y_train, y_test = train_test_split(X, y, test_size = 0.15, stratify=y,  random_state = 45)\n",
    "\n",
    "print(x_train.shape)\n",
    "print(y_train.shape)\n",
    "print(x_test.shape)\n",
    "print(y_train.shape)"
   ]
  },
  {
   "cell_type": "markdown",
   "metadata": {},
   "source": [
    "### Q19. Train a Logistic Regression Model. What is the Accuracy and how many True Positives and True Negatives did you get? (3 Marks)"
   ]
  },
  {
   "cell_type": "code",
   "execution_count": 73,
   "metadata": {},
   "outputs": [
    {
     "name": "stdout",
     "output_type": "stream",
     "text": [
      "Accuracy of Logistic Regression model on the train set: 0.76\n",
      "Accuracy of the Logictic Regression model on the test set: 0.75\n",
      "True Positives: 53\n",
      "True Negatives: 60\n",
      "Overall Accuracy: 0.75\n"
     ]
    }
   ],
   "source": [
    "# remove _____ & complete the code\n",
    "\n",
    "# import the model\n",
    "from sklearn.linear_model import LogisticRegression\n",
    "\n",
    "# Instantiate the model\n",
    "lr = LogisticRegression()\n",
    "\n",
    "# fit the model on the train set\n",
    "m = lr.fit(x_train, y_train)\n",
    "\n",
    "# Predict on x_test\n",
    "y_pred = m.predict(x_test)\n",
    "\n",
    "# Evaluate the model\n",
    "print('Accuracy of Logistic Regression model on the train set: {:.2f}'.format(m.score(x_train, y_train)))\n",
    "print('Accuracy of the Logictic Regression model on the test set: {:.2f}'.format(m.score(x_test, y_test)))\n",
    "\n",
    "from sklearn.metrics import confusion_matrix\n",
    "conf_matrix = confusion_matrix(y_test, y_pred)\n",
    "\n",
    "\n",
    "true_positives = conf_matrix[1, 1]\n",
    "true_negatives = conf_matrix[0, 0]\n",
    "\n",
    "print(f'True Positives: {true_positives}')\n",
    "print(f'True Negatives: {true_negatives}')\n",
    "\n",
    "# Calculate Overall Accuracy\n",
    "overall_accuracy = (true_positives + true_negatives) / sum(sum(conf_matrix))\n",
    "# Print the results\n",
    "print(f'Overall Accuracy: {overall_accuracy:.2f}')\n",
    "\n"
   ]
  },
  {
   "cell_type": "markdown",
   "metadata": {},
   "source": [
    "#### Write your Answer here: \n"
   ]
  },
  {
   "cell_type": "markdown",
   "metadata": {},
   "source": [
    "Ans 19:\n",
    "\n",
    "Accuracy of Logistic Regression model on the train set: 0.76\n",
    "Accuracy of the Logictic Regression model on the test set: 0.75\n",
    "True Positives: 53\n",
    "True Negatives: 60\n",
    "Overall Accuracy: 0.75\n",
    "\n",
    "The Logistic Regression model achieved an accuracy of 75%. This accuracy reflects the proportion of correctly predicted instances in the total test set. Additionally, the model obtained 53 True Positives, indicating the number of instances correctly predicted as positive, and 60 True Negatives, signifying the number of instances correctly predicted as negative."
   ]
  },
  {
   "cell_type": "markdown",
   "metadata": {},
   "source": [
    "### Q20. Train a Random Forest Model. What is the Accuracy and how many True Positives and True Negatives did you get? (3 Marks)"
   ]
  },
  {
   "cell_type": "code",
   "execution_count": 50,
   "metadata": {},
   "outputs": [
    {
     "name": "stdout",
     "output_type": "stream",
     "text": [
      "Accuracy of Random Forest model on the train set: 0.81\n",
      "Accuracy of Random Forest model on the test set: 0.79\n",
      "True Positives: 63\n",
      "True Negatives: 55\n",
      "Overall Accuracy: 0.79\n"
     ]
    }
   ],
   "source": [
    "#remove _____ & complete the code\n",
    "\n",
    "# Import the Model\n",
    "from sklearn.ensemble import RandomForestClassifier\n",
    "\n",
    "# Instantiate the model. \n",
    "rf = RandomForestClassifier(n_estimators=301, max_depth=3)\n",
    "\n",
    "# fit the model on the train set\n",
    "m2 = rf.fit(x_train, y_train)\n",
    "\n",
    "# Predict on x_test\n",
    "y_pred2 = m2.predict(x_test)\n",
    "\n",
    "# Evaluate the Model\n",
    "print('Accuracy of Random Forest model on the train set: {:.2f}'.format(m2.score(x_train, y_train)))\n",
    "print('Accuracy of Random Forest model on the test set: {:.2f}'.format(m2.score(x_test, y_test)))\n",
    "conf_matrix_rf = confusion_matrix(y_test, y_pred2)\n",
    "\n",
    "\n",
    "# Extract True Positives and True Negatives from the confusion matrix\n",
    "true_positives_rf = conf_matrix_rf[1, 1]\n",
    "true_negatives_rf = conf_matrix_rf[0, 0]\n",
    "\n",
    "# Calculate Accuracy\n",
    "Overall_accuracy_rf = (true_positives_rf + true_negatives_rf) / sum(sum(conf_matrix_rf))\n",
    "\n",
    "# Print the results\n",
    "print(f'True Positives: {true_positives_rf}')\n",
    "print(f'True Negatives: {true_negatives_rf}')\n",
    "print(f'Overall Accuracy: {accuracy_rf:.2f}')"
   ]
  },
  {
   "cell_type": "markdown",
   "metadata": {},
   "source": [
    "#### Write your Answer here: "
   ]
  },
  {
   "cell_type": "markdown",
   "metadata": {},
   "source": [
    "Ans 20:\n",
    "\n",
    "Accuracy of Random Forest model on the train set: 0.81\n",
    "Accuracy of Random Forest model on the test set: 0.79\n",
    "True Positives: 63\n",
    "True Negatives: 55\n",
    "Overall Accuracy: 0.79\n",
    "\n",
    "On the training set, the model achieves an accuracy of 81%, while on the test set, the accuracy slightly decreases to 79%. In terms of specific predictions, the model correctly identifies 63 instances of positive cases (True Positives) and accurately classifies 55 instances of negative cases (True Negatives). The overall accuracy, which considers both positive and negative predictions, remains consistent at 79%. The results indicate a reasonable predictive capability of the Random Forest model across different datasets."
   ]
  },
  {
   "cell_type": "markdown",
   "metadata": {},
   "source": [
    "    "
   ]
  },
  {
   "cell_type": "markdown",
   "metadata": {},
   "source": [
    "### Q21. Which model performed better? (1 Mark)"
   ]
  },
  {
   "cell_type": "markdown",
   "metadata": {},
   "source": [
    "#### Write your Answer here: "
   ]
  },
  {
   "cell_type": "markdown",
   "metadata": {},
   "source": [
    "Ans 21:"
   ]
  },
  {
   "cell_type": "markdown",
   "metadata": {},
   "source": [
    "1.Overall Accuracy on the Test Set:\n",
    "Random Forest: 0.79\n",
    "Logistic Regression: 0.75\n",
    "The Random Forest model has a higher overall accuracy on the test set, indicating that, in terms of the percentage of correct predictions, it performed better.\n",
    "\n",
    "2.True Positives and True Negatives:\n",
    "Random Forest True Positives: 63\n",
    "Random Forest True Negatives: 55\n",
    "Logistic Regression True Positives: 53\n",
    "Logistic Regression True Negatives: 60\n",
    "The Random Forest model achieved more True Positives and fewer True Negatives compared to the Logistic Regression model. This is crucial, especially in binary classification tasks, as it shows the Random Forest's ability to correctly identify positive instances.\n",
    "\n",
    "3.Accuracy on the Training Set:\n",
    "Random Forest: 0.81\n",
    "Logistic Regression: 0.76\n",
    "While training accuracy is not always a reliable indicator of model performance, a higher training accuracy suggests that the Random Forest model better fits the training data.\n",
    "\n",
    "4.Comparison of Metrics:\n",
    "The Random Forest model consistently outperformed the Logistic Regression model across multiple metrics."
   ]
  }
 ],
 "metadata": {
  "kernelspec": {
   "display_name": "Python 3",
   "language": "python",
   "name": "python3"
  },
  "language_info": {
   "codemirror_mode": {
    "name": "ipython",
    "version": 3
   },
   "file_extension": ".py",
   "mimetype": "text/x-python",
   "name": "python",
   "nbconvert_exporter": "python",
   "pygments_lexer": "ipython3",
   "version": "3.8.8"
  },
  "toc": {
   "base_numbering": 1,
   "nav_menu": {},
   "number_sections": true,
   "sideBar": true,
   "skip_h1_title": false,
   "title_cell": "Table of Contents",
   "title_sidebar": "Contents",
   "toc_cell": false,
   "toc_position": {},
   "toc_section_display": true,
   "toc_window_display": false
  },
  "varInspector": {
   "cols": {
    "lenName": 16,
    "lenType": 16,
    "lenVar": 40
   },
   "kernels_config": {
    "python": {
     "delete_cmd_postfix": "",
     "delete_cmd_prefix": "del ",
     "library": "var_list.py",
     "varRefreshCmd": "print(var_dic_list())"
    },
    "r": {
     "delete_cmd_postfix": ") ",
     "delete_cmd_prefix": "rm(",
     "library": "var_list.r",
     "varRefreshCmd": "cat(var_dic_list()) "
    }
   },
   "types_to_exclude": [
    "module",
    "function",
    "builtin_function_or_method",
    "instance",
    "_Feature"
   ],
   "window_display": false
  }
 },
 "nbformat": 4,
 "nbformat_minor": 2
}
